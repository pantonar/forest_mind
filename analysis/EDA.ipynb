{
 "cells": [
  {
   "cell_type": "markdown",
   "metadata": {},
   "source": [
    "Explore the raw data provided:\n",
    "    * forest disturbances\n",
    "    * Land Use"
   ]
  },
  {
   "cell_type": "code",
   "execution_count": 1,
   "metadata": {},
   "outputs": [],
   "source": [
    "import geopandas as gpd\n",
    "import os\n",
    "import rasterio\n",
    "import matplotlib.pyplot as plt\n",
    "import numpy as np\n",
    "import pandas as pd\n",
    "import seaborn as sns\n",
    "import gdal"
   ]
  },
  {
   "cell_type": "markdown",
   "metadata": {},
   "source": [
    "# 1. Forest Disturbances\n",
    "## Helpers"
   ]
  },
  {
   "cell_type": "code",
   "execution_count": 42,
   "metadata": {},
   "outputs": [],
   "source": [
    "def rasterize(shp, dst, feat, epsg):\n",
    "    cmd = f'gdal_rasterize -a_srs {epsg} -a {feat} -tr 10 10 -ot Int32 -a_nodata 0 {shp} {dst}'\n",
    "    os.system(cmd)\n",
    "    return\n"
   ]
  },
  {
   "cell_type": "markdown",
   "metadata": {},
   "source": [
    "## Understand data"
   ]
  },
  {
   "cell_type": "code",
   "execution_count": 18,
   "metadata": {},
   "outputs": [],
   "source": [
    "data_dir = '/mnt/uksa-storage/disturbances/'\n",
    "projection = 'EPSG:32615'"
   ]
  },
  {
   "cell_type": "code",
   "execution_count": 4,
   "metadata": {},
   "outputs": [],
   "source": [
    "os.chdir(data_dir)"
   ]
  },
  {
   "cell_type": "code",
   "execution_count": 5,
   "metadata": {},
   "outputs": [],
   "source": [
    "data = gpd.read_file('forestchange_footprint_current_change.shp')"
   ]
  },
  {
   "cell_type": "code",
   "execution_count": 6,
   "metadata": {},
   "outputs": [
    {
     "data": {
      "text/plain": [
       "(34184, 6)"
      ]
     },
     "execution_count": 6,
     "metadata": {},
     "output_type": "execute_result"
    }
   ],
   "source": [
    "data.shape"
   ]
  },
  {
   "cell_type": "code",
   "execution_count": 28,
   "metadata": {},
   "outputs": [
    {
     "data": {
      "text/html": [
       "<div>\n",
       "<style scoped>\n",
       "    .dataframe tbody tr th:only-of-type {\n",
       "        vertical-align: middle;\n",
       "    }\n",
       "\n",
       "    .dataframe tbody tr th {\n",
       "        vertical-align: top;\n",
       "    }\n",
       "\n",
       "    .dataframe thead th {\n",
       "        text-align: right;\n",
       "    }\n",
       "</style>\n",
       "<table border=\"1\" class=\"dataframe\">\n",
       "  <thead>\n",
       "    <tr style=\"text-align: right;\">\n",
       "      <th></th>\n",
       "      <th>aoi</th>\n",
       "      <th>deliveryda</th>\n",
       "      <th>pkid</th>\n",
       "      <th>area_ha</th>\n",
       "      <th>enddate</th>\n",
       "      <th>geometry</th>\n",
       "      <th>year</th>\n",
       "    </tr>\n",
       "  </thead>\n",
       "  <tbody>\n",
       "    <tr>\n",
       "      <th>0</th>\n",
       "      <td>1</td>\n",
       "      <td>20180202000000</td>\n",
       "      <td>40640</td>\n",
       "      <td>0.075333</td>\n",
       "      <td>20180202000000</td>\n",
       "      <td>POLYGON ((609921.956 1714553.182, 609935.465 1...</td>\n",
       "      <td>2018</td>\n",
       "    </tr>\n",
       "    <tr>\n",
       "      <th>1</th>\n",
       "      <td>1</td>\n",
       "      <td>20180202000000</td>\n",
       "      <td>40641</td>\n",
       "      <td>0.037666</td>\n",
       "      <td>20180202000000</td>\n",
       "      <td>POLYGON ((609826.861 1714664.203, 609813.352 1...</td>\n",
       "      <td>2018</td>\n",
       "    </tr>\n",
       "    <tr>\n",
       "      <th>2</th>\n",
       "      <td>1</td>\n",
       "      <td>20180202000000</td>\n",
       "      <td>40642</td>\n",
       "      <td>0.094164</td>\n",
       "      <td>20180202000000</td>\n",
       "      <td>POLYGON ((609891.673 1715235.822, 609905.182 1...</td>\n",
       "      <td>2018</td>\n",
       "    </tr>\n",
       "    <tr>\n",
       "      <th>3</th>\n",
       "      <td>1</td>\n",
       "      <td>20180202000000</td>\n",
       "      <td>40643</td>\n",
       "      <td>0.075331</td>\n",
       "      <td>20180202000000</td>\n",
       "      <td>POLYGON ((610040.200 1715250.467, 610026.692 1...</td>\n",
       "      <td>2018</td>\n",
       "    </tr>\n",
       "    <tr>\n",
       "      <th>4</th>\n",
       "      <td>1</td>\n",
       "      <td>20180202000000</td>\n",
       "      <td>40644</td>\n",
       "      <td>0.018833</td>\n",
       "      <td>20180202000000</td>\n",
       "      <td>POLYGON ((610123.589 1714763.163, 610110.080 1...</td>\n",
       "      <td>2018</td>\n",
       "    </tr>\n",
       "  </tbody>\n",
       "</table>\n",
       "</div>"
      ],
      "text/plain": [
       "  aoi      deliveryda   pkid   area_ha         enddate  \\\n",
       "0   1  20180202000000  40640  0.075333  20180202000000   \n",
       "1   1  20180202000000  40641  0.037666  20180202000000   \n",
       "2   1  20180202000000  40642  0.094164  20180202000000   \n",
       "3   1  20180202000000  40643  0.075331  20180202000000   \n",
       "4   1  20180202000000  40644  0.018833  20180202000000   \n",
       "\n",
       "                                            geometry  year  \n",
       "0  POLYGON ((609921.956 1714553.182, 609935.465 1...  2018  \n",
       "1  POLYGON ((609826.861 1714664.203, 609813.352 1...  2018  \n",
       "2  POLYGON ((609891.673 1715235.822, 609905.182 1...  2018  \n",
       "3  POLYGON ((610040.200 1715250.467, 610026.692 1...  2018  \n",
       "4  POLYGON ((610123.589 1714763.163, 610110.080 1...  2018  "
      ]
     },
     "execution_count": 28,
     "metadata": {},
     "output_type": "execute_result"
    }
   ],
   "source": [
    "data.head()"
   ]
  },
  {
   "cell_type": "code",
   "execution_count": 8,
   "metadata": {},
   "outputs": [
    {
     "data": {
      "text/plain": [
       "34184"
      ]
     },
     "execution_count": 8,
     "metadata": {},
     "output_type": "execute_result"
    }
   ],
   "source": [
    "(data['deliveryda']==data['enddate']).sum()"
   ]
  },
  {
   "cell_type": "code",
   "execution_count": 9,
   "metadata": {},
   "outputs": [
    {
     "data": {
      "text/plain": [
       "75"
      ]
     },
     "execution_count": 9,
     "metadata": {},
     "output_type": "execute_result"
    }
   ],
   "source": [
    "len(data['deliveryda'].unique())"
   ]
  },
  {
   "cell_type": "code",
   "execution_count": 10,
   "metadata": {},
   "outputs": [
    {
     "data": {
      "text/plain": [
       "array(['20180202000000', '20180214000000', '20180226000000',\n",
       "       '20180310000000', '20180322000000', '20180403000000',\n",
       "       '20180415000000', '20180427000000', '20180509000000',\n",
       "       '20180521000000', '20180602000000', '20180614000000',\n",
       "       '20180626000000', '20180708000000', '20180720000000',\n",
       "       '20180801000000', '20180813000000', '20180825000000',\n",
       "       '20180906000000', '20180918000000', '20180930000000',\n",
       "       '20181012000000', '20181024000000', '20181105000000',\n",
       "       '20181117000000', '20181129000000', '20181211000000',\n",
       "       '20181223000000', '20190104000000', '20190116000000',\n",
       "       '20190128000000', '20190209000000', '20190221000000',\n",
       "       '20190305000000', '20190317000000', '20190329000000',\n",
       "       '20190410000000', '20190422000000', '20190504000000',\n",
       "       '20190516000000', '20190528000000', '20190621000000',\n",
       "       '20190703000000', '20190715000000', '20190727000000',\n",
       "       '20190820000000', '20190925000000', '20191007000000',\n",
       "       '20191019000000', '20191031000000', '20191112000000',\n",
       "       '20191124000000', '20191206000000', '20191218000000',\n",
       "       '20191230000000', '20200111000000', '20200123000000',\n",
       "       '20200204000000', '20200510000000', '20200615000000',\n",
       "       '20200627000000', '20200709000000', '20200721000000',\n",
       "       '20200802000000', '20200814000000', '20200826000000',\n",
       "       '20200907000000', '20200919000000', '20201001000000',\n",
       "       '20201013000000', '20201025000000', '20201106000000',\n",
       "       '20201118000000', '20201130000000', '20201212000000'], dtype=object)"
      ]
     },
     "execution_count": 10,
     "metadata": {},
     "output_type": "execute_result"
    }
   ],
   "source": [
    "data['deliveryda'].unique()"
   ]
  },
  {
   "cell_type": "code",
   "execution_count": 11,
   "metadata": {},
   "outputs": [
    {
     "data": {
      "text/plain": [
       "34184"
      ]
     },
     "execution_count": 11,
     "metadata": {},
     "output_type": "execute_result"
    }
   ],
   "source": [
    "len(data['pkid'].unique())"
   ]
  },
  {
   "cell_type": "code",
   "execution_count": 12,
   "metadata": {},
   "outputs": [
    {
     "data": {
      "text/plain": [
       "1"
      ]
     },
     "execution_count": 12,
     "metadata": {},
     "output_type": "execute_result"
    }
   ],
   "source": [
    "len(data['aoi'].unique())"
   ]
  },
  {
   "cell_type": "code",
   "execution_count": 17,
   "metadata": {},
   "outputs": [
    {
     "data": {
      "text/plain": [
       "<Geographic 2D CRS: EPSG:4326>\n",
       "Name: WGS 84\n",
       "Axis Info [ellipsoidal]:\n",
       "- Lat[north]: Geodetic latitude (degree)\n",
       "- Lon[east]: Geodetic longitude (degree)\n",
       "Area of Use:\n",
       "- name: World\n",
       "- bounds: (-180.0, -90.0, 180.0, 90.0)\n",
       "Datum: World Geodetic System 1984\n",
       "- Ellipsoid: WGS 84\n",
       "- Prime Meridian: Greenwich"
      ]
     },
     "execution_count": 17,
     "metadata": {},
     "output_type": "execute_result"
    }
   ],
   "source": [
    "# check projection \n",
    "data.crs"
   ]
  },
  {
   "cell_type": "code",
   "execution_count": 23,
   "metadata": {},
   "outputs": [],
   "source": [
    "# change projection to mercator\n",
    "data= data.to_crs(projection)\n",
    "# save shp\n",
    "data.to_file('forest_change_mercator.shp')"
   ]
  },
  {
   "cell_type": "code",
   "execution_count": 24,
   "metadata": {},
   "outputs": [
    {
     "data": {
      "text/plain": [
       "<Projected CRS: EPSG:32615>\n",
       "Name: WGS 84 / UTM zone 15N\n",
       "Axis Info [cartesian]:\n",
       "- E[east]: Easting (metre)\n",
       "- N[north]: Northing (metre)\n",
       "Area of Use:\n",
       "- name: World - N hemisphere - 96°W to 90°W - by country\n",
       "- bounds: (-96.0, 0.0, -90.0, 84.0)\n",
       "Coordinate Operation:\n",
       "- name: UTM zone 15N\n",
       "- method: Transverse Mercator\n",
       "Datum: World Geodetic System 1984\n",
       "- Ellipsoid: WGS 84\n",
       "- Prime Meridian: Greenwich"
      ]
     },
     "execution_count": 24,
     "metadata": {},
     "output_type": "execute_result"
    }
   ],
   "source": [
    "data.crs"
   ]
  },
  {
   "cell_type": "code",
   "execution_count": 21,
   "metadata": {},
   "outputs": [
    {
     "data": {
      "text/plain": [
       "<AxesSubplot:>"
      ]
     },
     "execution_count": 21,
     "metadata": {},
     "output_type": "execute_result"
    },
    {
     "data": {
      "image/png": "[encoded data removed]",
      "text/plain": [
       "<Figure size 432x288 with 1 Axes>"
      ]
     },
     "metadata": {
      "needs_background": "light"
     },
     "output_type": "display_data"
    }
   ],
   "source": [
    "data.plot()"
   ]
  },
  {
   "cell_type": "code",
   "execution_count": 25,
   "metadata": {},
   "outputs": [],
   "source": [
    "# only year\n",
    "data['year'] = data['enddate'].str[:4]"
   ]
  },
  {
   "cell_type": "code",
   "execution_count": 26,
   "metadata": {},
   "outputs": [
    {
     "name": "stdout",
     "output_type": "stream",
     "text": [
      "['2018' '2019' '2020']\n",
      "[16851 14374  2959]\n"
     ]
    }
   ],
   "source": [
    "a,b = np.unique(data['year'], return_counts = True)\n",
    "print(a)\n",
    "print(b)"
   ]
  },
  {
   "cell_type": "code",
   "execution_count": 27,
   "metadata": {},
   "outputs": [
    {
     "data": {
      "text/html": [
       "<div>\n",
       "<style scoped>\n",
       "    .dataframe tbody tr th:only-of-type {\n",
       "        vertical-align: middle;\n",
       "    }\n",
       "\n",
       "    .dataframe tbody tr th {\n",
       "        vertical-align: top;\n",
       "    }\n",
       "\n",
       "    .dataframe thead th {\n",
       "        text-align: right;\n",
       "    }\n",
       "</style>\n",
       "<table border=\"1\" class=\"dataframe\">\n",
       "  <thead>\n",
       "    <tr style=\"text-align: right;\">\n",
       "      <th></th>\n",
       "      <th>pkid</th>\n",
       "      <th>area_ha</th>\n",
       "    </tr>\n",
       "    <tr>\n",
       "      <th>year</th>\n",
       "      <th></th>\n",
       "      <th></th>\n",
       "    </tr>\n",
       "  </thead>\n",
       "  <tbody>\n",
       "    <tr>\n",
       "      <th>2018</th>\n",
       "      <td>826794315</td>\n",
       "      <td>638.501951</td>\n",
       "    </tr>\n",
       "    <tr>\n",
       "      <th>2019</th>\n",
       "      <td>929674385</td>\n",
       "      <td>458.482080</td>\n",
       "    </tr>\n",
       "    <tr>\n",
       "      <th>2020</th>\n",
       "      <td>217024896</td>\n",
       "      <td>82.441104</td>\n",
       "    </tr>\n",
       "  </tbody>\n",
       "</table>\n",
       "</div>"
      ],
      "text/plain": [
       "           pkid     area_ha\n",
       "year                       \n",
       "2018  826794315  638.501951\n",
       "2019  929674385  458.482080\n",
       "2020  217024896   82.441104"
      ]
     },
     "execution_count": 27,
     "metadata": {},
     "output_type": "execute_result"
    }
   ],
   "source": [
    "data.groupby('year').aggregate(sum)"
   ]
  },
  {
   "cell_type": "markdown",
   "metadata": {},
   "source": [
    "We note there has been much less deforestation in 2020 relative to the previous years"
   ]
  },
  {
   "cell_type": "code",
   "execution_count": 36,
   "metadata": {},
   "outputs": [
    {
     "data": {
      "text/html": [
       "<div>\n",
       "<style scoped>\n",
       "    .dataframe tbody tr th:only-of-type {\n",
       "        vertical-align: middle;\n",
       "    }\n",
       "\n",
       "    .dataframe tbody tr th {\n",
       "        vertical-align: top;\n",
       "    }\n",
       "\n",
       "    .dataframe thead th {\n",
       "        text-align: right;\n",
       "    }\n",
       "</style>\n",
       "<table border=\"1\" class=\"dataframe\">\n",
       "  <thead>\n",
       "    <tr style=\"text-align: right;\">\n",
       "      <th></th>\n",
       "      <th>aoi</th>\n",
       "      <th>deliveryda</th>\n",
       "      <th>pkid</th>\n",
       "      <th>area_ha</th>\n",
       "      <th>enddate</th>\n",
       "      <th>geometry</th>\n",
       "      <th>year</th>\n",
       "    </tr>\n",
       "  </thead>\n",
       "  <tbody>\n",
       "    <tr>\n",
       "      <th>0</th>\n",
       "      <td>1</td>\n",
       "      <td>20180202000000</td>\n",
       "      <td>40640</td>\n",
       "      <td>0.075333</td>\n",
       "      <td>20180202000000</td>\n",
       "      <td>POLYGON ((609921.956 1714553.182, 609935.465 1...</td>\n",
       "      <td>2018</td>\n",
       "    </tr>\n",
       "    <tr>\n",
       "      <th>1</th>\n",
       "      <td>1</td>\n",
       "      <td>20180202000000</td>\n",
       "      <td>40641</td>\n",
       "      <td>0.037666</td>\n",
       "      <td>20180202000000</td>\n",
       "      <td>POLYGON ((609826.861 1714664.203, 609813.352 1...</td>\n",
       "      <td>2018</td>\n",
       "    </tr>\n",
       "    <tr>\n",
       "      <th>2</th>\n",
       "      <td>1</td>\n",
       "      <td>20180202000000</td>\n",
       "      <td>40642</td>\n",
       "      <td>0.094164</td>\n",
       "      <td>20180202000000</td>\n",
       "      <td>POLYGON ((609891.673 1715235.822, 609905.182 1...</td>\n",
       "      <td>2018</td>\n",
       "    </tr>\n",
       "    <tr>\n",
       "      <th>3</th>\n",
       "      <td>1</td>\n",
       "      <td>20180202000000</td>\n",
       "      <td>40643</td>\n",
       "      <td>0.075331</td>\n",
       "      <td>20180202000000</td>\n",
       "      <td>POLYGON ((610040.200 1715250.467, 610026.692 1...</td>\n",
       "      <td>2018</td>\n",
       "    </tr>\n",
       "    <tr>\n",
       "      <th>4</th>\n",
       "      <td>1</td>\n",
       "      <td>20180202000000</td>\n",
       "      <td>40644</td>\n",
       "      <td>0.018833</td>\n",
       "      <td>20180202000000</td>\n",
       "      <td>POLYGON ((610123.589 1714763.163, 610110.080 1...</td>\n",
       "      <td>2018</td>\n",
       "    </tr>\n",
       "  </tbody>\n",
       "</table>\n",
       "</div>"
      ],
      "text/plain": [
       "  aoi      deliveryda   pkid   area_ha         enddate  \\\n",
       "0   1  20180202000000  40640  0.075333  20180202000000   \n",
       "1   1  20180202000000  40641  0.037666  20180202000000   \n",
       "2   1  20180202000000  40642  0.094164  20180202000000   \n",
       "3   1  20180202000000  40643  0.075331  20180202000000   \n",
       "4   1  20180202000000  40644  0.018833  20180202000000   \n",
       "\n",
       "                                            geometry  year  \n",
       "0  POLYGON ((609921.956 1714553.182, 609935.465 1...  2018  \n",
       "1  POLYGON ((609826.861 1714664.203, 609813.352 1...  2018  \n",
       "2  POLYGON ((609891.673 1715235.822, 609905.182 1...  2018  \n",
       "3  POLYGON ((610040.200 1715250.467, 610026.692 1...  2018  \n",
       "4  POLYGON ((610123.589 1714763.163, 610110.080 1...  2018  "
      ]
     },
     "execution_count": 36,
     "metadata": {},
     "output_type": "execute_result"
    }
   ],
   "source": [
    "data.head()"
   ]
  },
  {
   "cell_type": "markdown",
   "metadata": {},
   "source": [
    "## Rasterize data"
   ]
  },
  {
   "cell_type": "code",
   "execution_count": 43,
   "metadata": {},
   "outputs": [],
   "source": [
    "rasterize('forest_change_mercator.shp', 'forest_change_by_year.tif', 'year', 'EPSG:32615')"
   ]
  },
  {
   "cell_type": "code",
   "execution_count": 44,
   "metadata": {},
   "outputs": [
    {
     "data": {
      "text/plain": [
       "{'driver': 'GTiff', 'dtype': 'int32', 'nodata': 0.0, 'width': 4401, 'height': 3440, 'count': 1, 'crs': CRS.from_epsg(32615), 'transform': Affine(10.0, 0.0, 603558.1124792217,\n",
       "       0.0, -10.0, 1742194.128229793), 'tiled': False, 'interleave': 'band'}"
      ]
     },
     "execution_count": 44,
     "metadata": {},
     "output_type": "execute_result"
    }
   ],
   "source": [
    "rst = rasterio.open('forest_change_by_year.tif')\n",
    "rst.profile"
   ]
  },
  {
   "cell_type": "code",
   "execution_count": 45,
   "metadata": {},
   "outputs": [],
   "source": [
    "rst_dt = rst.read(1)\n",
    "a,b = np.unique(rst_dt, return_counts=True)"
   ]
  },
  {
   "cell_type": "code",
   "execution_count": 48,
   "metadata": {},
   "outputs": [
    {
     "name": "stdout",
     "output_type": "stream",
     "text": [
      "[   0 2018 2019 2020]\n",
      "[15021061    64077    46052     8250]\n"
     ]
    }
   ],
   "source": [
    "print(a)\n",
    "print(b)"
   ]
  },
  {
   "cell_type": "markdown",
   "metadata": {},
   "source": [
    "The nb of 10x10m pixels matches the hectares deforested in the raw data - rasterization was succesful"
   ]
  },
  {
   "cell_type": "markdown",
   "metadata": {},
   "source": [
    "# 2. Land Use"
   ]
  },
  {
   "cell_type": "code",
   "execution_count": 33,
   "metadata": {},
   "outputs": [],
   "source": [
    "data_lui = '/mnt/uksa-storage/land_cover'"
   ]
  },
  {
   "cell_type": "code",
   "execution_count": 34,
   "metadata": {},
   "outputs": [],
   "source": [
    "os.chdir(data_lui)"
   ]
  },
  {
   "cell_type": "code",
   "execution_count": 35,
   "metadata": {},
   "outputs": [],
   "source": [
    "# LABELS\n",
    "# let's see what the class labels correspond to\n",
    "with open('GSI_LandNow_LCC_Delivery_2_ColourMap.clr') as f:\n",
    "    lines = f.readlines()\n",
    "    \n",
    "labels = {}\n",
    "for l in lines:\n",
    "    labels.update({int(l.split(' ')[0]):l.split(' ')[-2]})\n",
    "labels.update({11:'coffee'})\n",
    "labels.update({-9999:'outside AOI'})\n",
    "\n"
   ]
  },
  {
   "cell_type": "markdown",
   "metadata": {},
   "source": [
    "## Helpers"
   ]
  },
  {
   "cell_type": "code",
   "execution_count": 36,
   "metadata": {},
   "outputs": [],
   "source": [
    "def read_lui(filename, year, labels):\n",
    "    \"\"\"Read LUI and return class counts in dataframe\"\"\"\n",
    "    rst = rasterio.open(filename)\n",
    "    data = rst.read(1)\n",
    "    a, b = np.unique(data, return_counts=True)\n",
    "    df = pd.DataFrame(index =a)\n",
    "    df['lui'] = df.index.map(labels)\n",
    "    df['counts']=b\n",
    "    df['year']=year\n",
    "    return rst, data, df\n"
   ]
  },
  {
   "cell_type": "markdown",
   "metadata": {},
   "source": [
    "## Raw folder"
   ]
  },
  {
   "cell_type": "code",
   "execution_count": 37,
   "metadata": {},
   "outputs": [],
   "source": [
    "# raw data from 2020\n",
    "rst_raw_20, dt_raw_20, df_raw_20  = read_lui('2020/Raw/GSI_LandNow_LCC_2020_Iteration_2.tif', 2020, labels)"
   ]
  },
  {
   "cell_type": "code",
   "execution_count": 38,
   "metadata": {},
   "outputs": [
    {
     "data": {
      "text/plain": [
       "{'driver': 'GTiff', 'dtype': 'int16', 'nodata': -9999.0, 'width': 4447, 'height': 3569, 'count': 1, 'crs': CRS.from_epsg(32615), 'transform': Affine(10.0, 0.0, 603310.0,\n",
       "       0.0, -10.0, 1742400.0), 'blockxsize': 256, 'blockysize': 256, 'tiled': True, 'compress': 'deflate', 'interleave': 'band'}"
      ]
     },
     "execution_count": 38,
     "metadata": {},
     "output_type": "execute_result"
    }
   ],
   "source": [
    "rst_raw_20.profile"
   ]
  },
  {
   "cell_type": "code",
   "execution_count": 39,
   "metadata": {},
   "outputs": [
    {
     "data": {
      "text/plain": [
       "<matplotlib.image.AxesImage at 0x7f79730ba4a8>"
      ]
     },
     "execution_count": 39,
     "metadata": {},
     "output_type": "execute_result"
    },
    {
     "data": {
      "image/png": "[encoded data removed]",
      "text/plain": [
       "<Figure size 432x288 with 1 Axes>"
      ]
     },
     "metadata": {
      "needs_background": "light"
     },
     "output_type": "display_data"
    }
   ],
   "source": [
    "plt.imshow(dt_raw_20)"
   ]
  },
  {
   "cell_type": "code",
   "execution_count": 40,
   "metadata": {},
   "outputs": [
    {
     "data": {
      "text/html": [
       "<div>\n",
       "<style scoped>\n",
       "    .dataframe tbody tr th:only-of-type {\n",
       "        vertical-align: middle;\n",
       "    }\n",
       "\n",
       "    .dataframe tbody tr th {\n",
       "        vertical-align: top;\n",
       "    }\n",
       "\n",
       "    .dataframe thead th {\n",
       "        text-align: right;\n",
       "    }\n",
       "</style>\n",
       "<table border=\"1\" class=\"dataframe\">\n",
       "  <thead>\n",
       "    <tr style=\"text-align: right;\">\n",
       "      <th></th>\n",
       "      <th>lui</th>\n",
       "      <th>counts</th>\n",
       "      <th>year</th>\n",
       "    </tr>\n",
       "  </thead>\n",
       "  <tbody>\n",
       "    <tr>\n",
       "      <th>-9999</th>\n",
       "      <td>outside AOI</td>\n",
       "      <td>4427012</td>\n",
       "      <td>2020</td>\n",
       "    </tr>\n",
       "    <tr>\n",
       "      <th>1</th>\n",
       "      <td>Shrubs</td>\n",
       "      <td>250636</td>\n",
       "      <td>2020</td>\n",
       "    </tr>\n",
       "    <tr>\n",
       "      <th>2</th>\n",
       "      <td>Vegetation</td>\n",
       "      <td>116148</td>\n",
       "      <td>2020</td>\n",
       "    </tr>\n",
       "    <tr>\n",
       "      <th>3</th>\n",
       "      <td>Cropland</td>\n",
       "      <td>1404038</td>\n",
       "      <td>2020</td>\n",
       "    </tr>\n",
       "    <tr>\n",
       "      <th>4</th>\n",
       "      <td>Urban</td>\n",
       "      <td>206814</td>\n",
       "      <td>2020</td>\n",
       "    </tr>\n",
       "    <tr>\n",
       "      <th>5</th>\n",
       "      <td>vegetation</td>\n",
       "      <td>291522</td>\n",
       "      <td>2020</td>\n",
       "    </tr>\n",
       "    <tr>\n",
       "      <th>7</th>\n",
       "      <td>body</td>\n",
       "      <td>11177</td>\n",
       "      <td>2020</td>\n",
       "    </tr>\n",
       "    <tr>\n",
       "      <th>10</th>\n",
       "      <td>Forest</td>\n",
       "      <td>6348670</td>\n",
       "      <td>2020</td>\n",
       "    </tr>\n",
       "    <tr>\n",
       "      <th>11</th>\n",
       "      <td>coffee</td>\n",
       "      <td>2815326</td>\n",
       "      <td>2020</td>\n",
       "    </tr>\n",
       "  </tbody>\n",
       "</table>\n",
       "</div>"
      ],
      "text/plain": [
       "               lui   counts  year\n",
       "-9999  outside AOI  4427012  2020\n",
       " 1          Shrubs   250636  2020\n",
       " 2      Vegetation   116148  2020\n",
       " 3        Cropland  1404038  2020\n",
       " 4           Urban   206814  2020\n",
       " 5      vegetation   291522  2020\n",
       " 7            body    11177  2020\n",
       " 10         Forest  6348670  2020\n",
       " 11         coffee  2815326  2020"
      ]
     },
     "execution_count": 40,
     "metadata": {},
     "output_type": "execute_result"
    }
   ],
   "source": [
    "df_raw_20"
   ]
  },
  {
   "cell_type": "code",
   "execution_count": 41,
   "metadata": {},
   "outputs": [],
   "source": [
    "# raw data from 2017\n",
    "rst_raw_17, dt_raw_17, df_raw_17  = read_lui('2017/Raw/GSI_LandNow_LCC_2017_Iteration_2.tif', 2017, labels)"
   ]
  },
  {
   "cell_type": "code",
   "execution_count": 42,
   "metadata": {},
   "outputs": [
    {
     "data": {
      "text/plain": [
       "{'driver': 'GTiff', 'dtype': 'int16', 'nodata': -9999.0, 'width': 4447, 'height': 3569, 'count': 1, 'crs': CRS.from_epsg(32615), 'transform': Affine(10.0, 0.0, 603310.0,\n",
       "       0.0, -10.0, 1742400.0), 'blockxsize': 256, 'blockysize': 256, 'tiled': True, 'compress': 'deflate', 'interleave': 'band'}"
      ]
     },
     "execution_count": 42,
     "metadata": {},
     "output_type": "execute_result"
    }
   ],
   "source": [
    "rst_raw_17.profile"
   ]
  },
  {
   "cell_type": "code",
   "execution_count": 43,
   "metadata": {},
   "outputs": [
    {
     "data": {
      "text/plain": [
       "<matplotlib.image.AxesImage at 0x7f7971e1f3c8>"
      ]
     },
     "execution_count": 43,
     "metadata": {},
     "output_type": "execute_result"
    },
    {
     "data": {
      "image/png": "[encoded data removed]",
      "text/plain": [
       "<Figure size 432x288 with 1 Axes>"
      ]
     },
     "metadata": {
      "needs_background": "light"
     },
     "output_type": "display_data"
    }
   ],
   "source": [
    "plt.imshow(dt_raw_17)"
   ]
  },
  {
   "cell_type": "code",
   "execution_count": 44,
   "metadata": {},
   "outputs": [
    {
     "data": {
      "text/html": [
       "<div>\n",
       "<style scoped>\n",
       "    .dataframe tbody tr th:only-of-type {\n",
       "        vertical-align: middle;\n",
       "    }\n",
       "\n",
       "    .dataframe tbody tr th {\n",
       "        vertical-align: top;\n",
       "    }\n",
       "\n",
       "    .dataframe thead th {\n",
       "        text-align: right;\n",
       "    }\n",
       "</style>\n",
       "<table border=\"1\" class=\"dataframe\">\n",
       "  <thead>\n",
       "    <tr style=\"text-align: right;\">\n",
       "      <th></th>\n",
       "      <th>lui</th>\n",
       "      <th>counts</th>\n",
       "      <th>year</th>\n",
       "    </tr>\n",
       "  </thead>\n",
       "  <tbody>\n",
       "    <tr>\n",
       "      <th>-9999</th>\n",
       "      <td>outside AOI</td>\n",
       "      <td>4427012</td>\n",
       "      <td>2017</td>\n",
       "    </tr>\n",
       "    <tr>\n",
       "      <th>1</th>\n",
       "      <td>Shrubs</td>\n",
       "      <td>372140</td>\n",
       "      <td>2017</td>\n",
       "    </tr>\n",
       "    <tr>\n",
       "      <th>2</th>\n",
       "      <td>Vegetation</td>\n",
       "      <td>226316</td>\n",
       "      <td>2017</td>\n",
       "    </tr>\n",
       "    <tr>\n",
       "      <th>3</th>\n",
       "      <td>Cropland</td>\n",
       "      <td>1466284</td>\n",
       "      <td>2017</td>\n",
       "    </tr>\n",
       "    <tr>\n",
       "      <th>4</th>\n",
       "      <td>Urban</td>\n",
       "      <td>235404</td>\n",
       "      <td>2017</td>\n",
       "    </tr>\n",
       "    <tr>\n",
       "      <th>5</th>\n",
       "      <td>vegetation</td>\n",
       "      <td>280857</td>\n",
       "      <td>2017</td>\n",
       "    </tr>\n",
       "    <tr>\n",
       "      <th>7</th>\n",
       "      <td>body</td>\n",
       "      <td>11752</td>\n",
       "      <td>2017</td>\n",
       "    </tr>\n",
       "    <tr>\n",
       "      <th>10</th>\n",
       "      <td>Forest</td>\n",
       "      <td>5649376</td>\n",
       "      <td>2017</td>\n",
       "    </tr>\n",
       "    <tr>\n",
       "      <th>11</th>\n",
       "      <td>coffee</td>\n",
       "      <td>3202202</td>\n",
       "      <td>2017</td>\n",
       "    </tr>\n",
       "  </tbody>\n",
       "</table>\n",
       "</div>"
      ],
      "text/plain": [
       "               lui   counts  year\n",
       "-9999  outside AOI  4427012  2017\n",
       " 1          Shrubs   372140  2017\n",
       " 2      Vegetation   226316  2017\n",
       " 3        Cropland  1466284  2017\n",
       " 4           Urban   235404  2017\n",
       " 5      vegetation   280857  2017\n",
       " 7            body    11752  2017\n",
       " 10         Forest  5649376  2017\n",
       " 11         coffee  3202202  2017"
      ]
     },
     "execution_count": 44,
     "metadata": {},
     "output_type": "execute_result"
    }
   ],
   "source": [
    "df_raw_17"
   ]
  },
  {
   "cell_type": "code",
   "execution_count": 45,
   "metadata": {},
   "outputs": [
    {
     "data": {
      "text/plain": [
       "True"
      ]
     },
     "execution_count": 45,
     "metadata": {},
     "output_type": "execute_result"
    }
   ],
   "source": [
    "# confirm the AOI is the same in 2017 and 2020\n",
    "df_raw_17['counts'].sum()==df_raw_20['counts'].sum()"
   ]
  },
  {
   "cell_type": "code",
   "execution_count": 46,
   "metadata": {},
   "outputs": [],
   "source": [
    "# combine both years\n",
    "raw_lui_combined = df_raw_17.append(df_raw_20)"
   ]
  },
  {
   "cell_type": "code",
   "execution_count": 47,
   "metadata": {},
   "outputs": [
    {
     "data": {
      "text/plain": [
       "(array([0, 1, 2, 3, 4, 5, 6, 7, 8]),\n",
       " [Text(0, 0, 'outside AOI'),\n",
       "  Text(1, 0, 'Shrubs'),\n",
       "  Text(2, 0, 'Vegetation'),\n",
       "  Text(3, 0, 'Cropland'),\n",
       "  Text(4, 0, 'Urban'),\n",
       "  Text(5, 0, 'vegetation'),\n",
       "  Text(6, 0, 'body'),\n",
       "  Text(7, 0, 'Forest'),\n",
       "  Text(8, 0, 'coffee')])"
      ]
     },
     "execution_count": 47,
     "metadata": {},
     "output_type": "execute_result"
    },
    {
     "data": {
      "image/png": "[encoded data removed]",
      "text/plain": [
       "<Figure size 432x288 with 1 Axes>"
      ]
     },
     "metadata": {
      "needs_background": "light"
     },
     "output_type": "display_data"
    }
   ],
   "source": [
    "# Plot the counts in 2017 and 2020\n",
    "ax = sns.barplot(x='lui', y='counts', hue='year', data = raw_lui_combined)\n",
    "plt.xticks(rotation=70)"
   ]
  },
  {
   "cell_type": "markdown",
   "metadata": {},
   "source": [
    "We note that total forest cover has increased between 2017 and 2017, as a result of a reduction in land cultivation: cropland and coffee classes are in dedcline"
   ]
  },
  {
   "cell_type": "markdown",
   "metadata": {},
   "source": [
    "## Smoothed folder"
   ]
  },
  {
   "cell_type": "code",
   "execution_count": 48,
   "metadata": {},
   "outputs": [],
   "source": [
    "# smoothed data from 2020\n",
    "rst_smooth_20, dt_smooth_20, df_smooth_20  = read_lui('2020/Smoothed/GSI_LandNow_LCC_2020_Iteration_2_Smoothed.tif', 2020, labels)\n"
   ]
  },
  {
   "cell_type": "code",
   "execution_count": 49,
   "metadata": {},
   "outputs": [
    {
     "data": {
      "text/plain": [
       "{'driver': 'GTiff', 'dtype': 'int16', 'nodata': -9999.0, 'width': 4447, 'height': 3569, 'count': 1, 'crs': CRS.from_epsg(32615), 'transform': Affine(10.0, 0.0, 603310.0,\n",
       "       0.0, -10.0, 1742400.0), 'blockxsize': 256, 'blockysize': 256, 'tiled': True, 'compress': 'deflate', 'interleave': 'band'}"
      ]
     },
     "execution_count": 49,
     "metadata": {},
     "output_type": "execute_result"
    }
   ],
   "source": [
    "rst_raw_20.profile"
   ]
  },
  {
   "cell_type": "code",
   "execution_count": 50,
   "metadata": {},
   "outputs": [
    {
     "data": {
      "text/html": [
       "<div>\n",
       "<style scoped>\n",
       "    .dataframe tbody tr th:only-of-type {\n",
       "        vertical-align: middle;\n",
       "    }\n",
       "\n",
       "    .dataframe tbody tr th {\n",
       "        vertical-align: top;\n",
       "    }\n",
       "\n",
       "    .dataframe thead th {\n",
       "        text-align: right;\n",
       "    }\n",
       "</style>\n",
       "<table border=\"1\" class=\"dataframe\">\n",
       "  <thead>\n",
       "    <tr style=\"text-align: right;\">\n",
       "      <th></th>\n",
       "      <th>lui</th>\n",
       "      <th>counts</th>\n",
       "      <th>year</th>\n",
       "    </tr>\n",
       "  </thead>\n",
       "  <tbody>\n",
       "    <tr>\n",
       "      <th>-9999</th>\n",
       "      <td>outside AOI</td>\n",
       "      <td>4427012</td>\n",
       "      <td>2020</td>\n",
       "    </tr>\n",
       "    <tr>\n",
       "      <th>1</th>\n",
       "      <td>Shrubs</td>\n",
       "      <td>250636</td>\n",
       "      <td>2020</td>\n",
       "    </tr>\n",
       "    <tr>\n",
       "      <th>2</th>\n",
       "      <td>Vegetation</td>\n",
       "      <td>116148</td>\n",
       "      <td>2020</td>\n",
       "    </tr>\n",
       "    <tr>\n",
       "      <th>3</th>\n",
       "      <td>Cropland</td>\n",
       "      <td>1404038</td>\n",
       "      <td>2020</td>\n",
       "    </tr>\n",
       "    <tr>\n",
       "      <th>4</th>\n",
       "      <td>Urban</td>\n",
       "      <td>206814</td>\n",
       "      <td>2020</td>\n",
       "    </tr>\n",
       "    <tr>\n",
       "      <th>5</th>\n",
       "      <td>vegetation</td>\n",
       "      <td>291522</td>\n",
       "      <td>2020</td>\n",
       "    </tr>\n",
       "    <tr>\n",
       "      <th>7</th>\n",
       "      <td>body</td>\n",
       "      <td>11177</td>\n",
       "      <td>2020</td>\n",
       "    </tr>\n",
       "    <tr>\n",
       "      <th>10</th>\n",
       "      <td>Forest</td>\n",
       "      <td>6348670</td>\n",
       "      <td>2020</td>\n",
       "    </tr>\n",
       "    <tr>\n",
       "      <th>11</th>\n",
       "      <td>coffee</td>\n",
       "      <td>2815326</td>\n",
       "      <td>2020</td>\n",
       "    </tr>\n",
       "  </tbody>\n",
       "</table>\n",
       "</div>"
      ],
      "text/plain": [
       "               lui   counts  year\n",
       "-9999  outside AOI  4427012  2020\n",
       " 1          Shrubs   250636  2020\n",
       " 2      Vegetation   116148  2020\n",
       " 3        Cropland  1404038  2020\n",
       " 4           Urban   206814  2020\n",
       " 5      vegetation   291522  2020\n",
       " 7            body    11177  2020\n",
       " 10         Forest  6348670  2020\n",
       " 11         coffee  2815326  2020"
      ]
     },
     "execution_count": 50,
     "metadata": {},
     "output_type": "execute_result"
    }
   ],
   "source": [
    "df_raw_20"
   ]
  },
  {
   "cell_type": "code",
   "execution_count": 51,
   "metadata": {},
   "outputs": [],
   "source": [
    "# smoothed data from 2017\n",
    "rst_smooth_17, dt_smooth_17, df_smooth_17  = read_lui('2017/Smoothed/GSI_LandNow_LCC_2017_Iteration_2_Smoothed.tif', 2017, labels)\n"
   ]
  },
  {
   "cell_type": "code",
   "execution_count": 52,
   "metadata": {},
   "outputs": [],
   "source": [
    "# combine both years\n",
    "smooth_lui_combined = df_smooth_17.append(df_smooth_20)"
   ]
  },
  {
   "cell_type": "code",
   "execution_count": 53,
   "metadata": {},
   "outputs": [
    {
     "data": {
      "text/plain": [
       "(array([0, 1, 2, 3, 4, 5, 6, 7, 8]),\n",
       " [Text(0, 0, 'outside AOI'),\n",
       "  Text(1, 0, 'Shrubs'),\n",
       "  Text(2, 0, 'Vegetation'),\n",
       "  Text(3, 0, 'Cropland'),\n",
       "  Text(4, 0, 'Urban'),\n",
       "  Text(5, 0, 'vegetation'),\n",
       "  Text(6, 0, 'body'),\n",
       "  Text(7, 0, 'Forest'),\n",
       "  Text(8, 0, 'coffee')])"
      ]
     },
     "execution_count": 53,
     "metadata": {},
     "output_type": "execute_result"
    },
    {
     "data": {
      "image/png": "[encoded data removed]",
      "text/plain": [
       "<Figure size 432x288 with 1 Axes>"
      ]
     },
     "metadata": {
      "needs_background": "light"
     },
     "output_type": "display_data"
    }
   ],
   "source": [
    "# Plot the counts in 2017 and 2020\n",
    "ax = sns.barplot(x='lui', y='counts', hue='year', data = smooth_lui_combined)\n",
    "plt.xticks(rotation=70)"
   ]
  },
  {
   "cell_type": "markdown",
   "metadata": {},
   "source": [
    "We just use the smoothed LUI. Note that we'll train the model using the 2017 LUI, BUT make the projections for 2021 using the 2020 forest cover!"
   ]
  },
  {
   "cell_type": "code",
   "execution_count": null,
   "metadata": {},
   "outputs": [],
   "source": []
  }
 ],
 "metadata": {
  "kernelspec": {
   "display_name": "Python 3",
   "language": "python",
   "name": "python3"
  },
  "language_info": {
   "codemirror_mode": {
    "name": "ipython",
    "version": 3
   },
   "file_extension": ".py",
   "mimetype": "text/x-python",
   "name": "python",
   "nbconvert_exporter": "python",
   "pygments_lexer": "ipython3",
   "version": "3.6.9"
  }
 },
 "nbformat": 4,
 "nbformat_minor": 2
}
