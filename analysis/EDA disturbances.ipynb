{
 "cells": [
  {
   "cell_type": "code",
   "execution_count": 5,
   "metadata": {},
   "outputs": [],
   "source": [
    "import geopandas as gpd\n",
    "import os"
   ]
  },
  {
   "cell_type": "code",
   "execution_count": 11,
   "metadata": {},
   "outputs": [],
   "source": [
    "data_dir = '/mnt/uksa-storage/disturbances/'"
   ]
  },
  {
   "cell_type": "code",
   "execution_count": 9,
   "metadata": {},
   "outputs": [],
   "source": [
    "os.chdir(data_dir)"
   ]
  },
  {
   "cell_type": "code",
   "execution_count": 10,
   "metadata": {},
   "outputs": [],
   "source": [
    "data = gpd.read_file('forestchange_footprint_current_change.shp')"
   ]
  },
  {
   "cell_type": "code",
   "execution_count": 12,
   "metadata": {},
   "outputs": [
    {
     "data": {
      "text/plain": [
       "(34184, 6)"
      ]
     },
     "execution_count": 12,
     "metadata": {},
     "output_type": "execute_result"
    }
   ],
   "source": [
    "data.shape"
   ]
  },
  {
   "cell_type": "code",
   "execution_count": 13,
   "metadata": {},
   "outputs": [
    {
     "data": {
      "text/html": [
       "<div>\n",
       "<style scoped>\n",
       "    .dataframe tbody tr th:only-of-type {\n",
       "        vertical-align: middle;\n",
       "    }\n",
       "\n",
       "    .dataframe tbody tr th {\n",
       "        vertical-align: top;\n",
       "    }\n",
       "\n",
       "    .dataframe thead th {\n",
       "        text-align: right;\n",
       "    }\n",
       "</style>\n",
       "<table border=\"1\" class=\"dataframe\">\n",
       "  <thead>\n",
       "    <tr style=\"text-align: right;\">\n",
       "      <th></th>\n",
       "      <th>aoi</th>\n",
       "      <th>deliveryda</th>\n",
       "      <th>pkid</th>\n",
       "      <th>area_ha</th>\n",
       "      <th>enddate</th>\n",
       "      <th>geometry</th>\n",
       "    </tr>\n",
       "  </thead>\n",
       "  <tbody>\n",
       "    <tr>\n",
       "      <th>0</th>\n",
       "      <td>1</td>\n",
       "      <td>20180202000000</td>\n",
       "      <td>40640</td>\n",
       "      <td>0.075333</td>\n",
       "      <td>20180202000000</td>\n",
       "      <td>POLYGON ((-91.97514 15.50598, -91.97501 15.505...</td>\n",
       "    </tr>\n",
       "    <tr>\n",
       "      <th>1</th>\n",
       "      <td>1</td>\n",
       "      <td>20180202000000</td>\n",
       "      <td>40641</td>\n",
       "      <td>0.037666</td>\n",
       "      <td>20180202000000</td>\n",
       "      <td>POLYGON ((-91.97602 15.50698, -91.97615 15.506...</td>\n",
       "    </tr>\n",
       "    <tr>\n",
       "      <th>2</th>\n",
       "      <td>1</td>\n",
       "      <td>20180202000000</td>\n",
       "      <td>40642</td>\n",
       "      <td>0.094164</td>\n",
       "      <td>20180202000000</td>\n",
       "      <td>POLYGON ((-91.97539 15.51215, -91.97526 15.512...</td>\n",
       "    </tr>\n",
       "    <tr>\n",
       "      <th>3</th>\n",
       "      <td>1</td>\n",
       "      <td>20180202000000</td>\n",
       "      <td>40643</td>\n",
       "      <td>0.075331</td>\n",
       "      <td>20180202000000</td>\n",
       "      <td>POLYGON ((-91.97401 15.51227, -91.97413 15.512...</td>\n",
       "    </tr>\n",
       "    <tr>\n",
       "      <th>4</th>\n",
       "      <td>1</td>\n",
       "      <td>20180202000000</td>\n",
       "      <td>40644</td>\n",
       "      <td>0.018833</td>\n",
       "      <td>20180202000000</td>\n",
       "      <td>POLYGON ((-91.97325 15.50786, -91.97338 15.507...</td>\n",
       "    </tr>\n",
       "  </tbody>\n",
       "</table>\n",
       "</div>"
      ],
      "text/plain": [
       "  aoi      deliveryda   pkid   area_ha         enddate  \\\n",
       "0   1  20180202000000  40640  0.075333  20180202000000   \n",
       "1   1  20180202000000  40641  0.037666  20180202000000   \n",
       "2   1  20180202000000  40642  0.094164  20180202000000   \n",
       "3   1  20180202000000  40643  0.075331  20180202000000   \n",
       "4   1  20180202000000  40644  0.018833  20180202000000   \n",
       "\n",
       "                                            geometry  \n",
       "0  POLYGON ((-91.97514 15.50598, -91.97501 15.505...  \n",
       "1  POLYGON ((-91.97602 15.50698, -91.97615 15.506...  \n",
       "2  POLYGON ((-91.97539 15.51215, -91.97526 15.512...  \n",
       "3  POLYGON ((-91.97401 15.51227, -91.97413 15.512...  \n",
       "4  POLYGON ((-91.97325 15.50786, -91.97338 15.507...  "
      ]
     },
     "execution_count": 13,
     "metadata": {},
     "output_type": "execute_result"
    }
   ],
   "source": [
    "data.head()"
   ]
  },
  {
   "cell_type": "code",
   "execution_count": 15,
   "metadata": {},
   "outputs": [
    {
     "data": {
      "text/plain": [
       "34184"
      ]
     },
     "execution_count": 15,
     "metadata": {},
     "output_type": "execute_result"
    }
   ],
   "source": [
    "(data['deliveryda']==data['enddate']).sum()"
   ]
  },
  {
   "cell_type": "code",
   "execution_count": null,
   "metadata": {},
   "outputs": [],
   "source": []
  }
 ],
 "metadata": {
  "kernelspec": {
   "display_name": "Python 3",
   "language": "python",
   "name": "python3"
  },
  "language_info": {
   "codemirror_mode": {
    "name": "ipython",
    "version": 3
   },
   "file_extension": ".py",
   "mimetype": "text/x-python",
   "name": "python",
   "nbconvert_exporter": "python",
   "pygments_lexer": "ipython3",
   "version": "3.6.9"
  }
 },
 "nbformat": 4,
 "nbformat_minor": 2
}
